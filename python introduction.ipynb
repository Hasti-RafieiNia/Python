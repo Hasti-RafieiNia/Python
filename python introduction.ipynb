{
 "cells": [
  {
   "attachments": {},
   "cell_type": "markdown",
   "metadata": {},
   "source": [
    "**WEEK01**"
   ]
  },
  {
   "attachments": {},
   "cell_type": "markdown",
   "metadata": {},
   "source": [
    "*Convert temperature from Celsius to Fahrenheit.*"
   ]
  },
  {
   "cell_type": "code",
   "execution_count": 9,
   "metadata": {},
   "outputs": [
    {
     "name": "stdout",
     "output_type": "stream",
     "text": [
      "20\n",
      "Fahrenhiet temreture is : 68.0\n"
     ]
    }
   ],
   "source": [
    "c = input(\"Enter the celsius tempreture.\")\n",
    "print(c)\n",
    "c = float(c)\n",
    "f = c * 1.8 + 32 ; \n",
    "print(\"Fahrenhiet temreture is :\" , f)"
   ]
  },
  {
   "attachments": {},
   "cell_type": "markdown",
   "metadata": {},
   "source": [
    "*Find the sum of all even numbers between 1 and 100.*"
   ]
  },
  {
   "cell_type": "code",
   "execution_count": 34,
   "metadata": {},
   "outputs": [
    {
     "name": "stdout",
     "output_type": "stream",
     "text": [
      "2450\n"
     ]
    }
   ],
   "source": [
    "s = input(\"Enter the start of the range.\")\n",
    "e = input(\"Enter the end of the range.\")\n",
    "s = int(s) ;\n",
    "e = int(e);\n",
    "sum = 0;\n",
    "for i in range(s , e):\n",
    "    if i % 2 == 0:\n",
    "        sum+=i \n",
    "print(sum)"
   ]
  },
  {
   "attachments": {},
   "cell_type": "markdown",
   "metadata": {},
   "source": [
    "*Create a dictionary of students with their scores, calculate the average.*"
   ]
  },
  {
   "cell_type": "code",
   "execution_count": 42,
   "metadata": {},
   "outputs": [
    {
     "name": "stdout",
     "output_type": "stream",
     "text": [
      "6.0\n"
     ]
    }
   ],
   "source": [
    "from statistics import mean\n",
    "num = int(input(\"Enter the number of students: \"))\n",
    "student_scores = {}\n",
    "\n",
    "for i in range(num):\n",
    "    name = input(\"Enter the student's name: \")\n",
    "    score = float(input(\"Enter the student's score: \"))\n",
    "    student_scores[name] = score ;\n",
    "\n",
    "avg = mean(student_scores.values()) ;\n",
    "\n",
    "print(avg)"
   ]
  },
  {
   "attachments": {},
   "cell_type": "markdown",
   "metadata": {},
   "source": [
    "*A function to calculate the factorial of a number.*"
   ]
  },
  {
   "cell_type": "code",
   "execution_count": 49,
   "metadata": {},
   "outputs": [
    {
     "name": "stdout",
     "output_type": "stream",
     "text": [
      "Factorial is : 120\n"
     ]
    }
   ],
   "source": [
    "n = input(\"Enter the number.\")\n",
    "n = int(n)\n",
    "fac = 1 ; \n",
    "if n < 0 :\n",
    "    print(\"Factorial does not exist.\")\n",
    "elif n == 0 :\n",
    "    print(\"Factorial is : 1\")\n",
    "else :\n",
    "    for i in range(1 , n+1 ) :\n",
    "        fac = fac * i \n",
    "    print(\"Factorial is :\" , fac)"
   ]
  },
  {
   "attachments": {},
   "cell_type": "markdown",
   "metadata": {},
   "source": [
    "*Read data from a file, calculate the average temperature, and write it to another file.*"
   ]
  },
  {
   "cell_type": "code",
   "execution_count": 5,
   "metadata": {},
   "outputs": [
    {
     "name": "stdout",
     "output_type": "stream",
     "text": [
      "The average of the column is: 35.2\n"
     ]
    }
   ],
   "source": [
    "file = open( \"C:/Users/user/Desktop/Week1,Assignment5.txt\" , \"r\")\n",
    "lines = file.readlines()\n",
    "sum_column = 0\n",
    "count = 0\n",
    "column_index = 1\n",
    "for line in lines:\n",
    "    columns = line.split(\"  \")  \n",
    "    column_value = float(columns[column_index]) \n",
    "    sum_column += column_value\n",
    "    count += 1\n",
    "average = sum_column / count\n",
    "print(\"The average of the column is:\", average)"
   ]
  },
  {
   "attachments": {},
   "cell_type": "markdown",
   "metadata": {},
   "source": [
    "**WEEK02**"
   ]
  },
  {
   "attachments": {},
   "cell_type": "markdown",
   "metadata": {},
   "source": [
    "*Create a NumPy array and perform basic mathematical operations.*"
   ]
  },
  {
   "cell_type": "code",
   "execution_count": 45,
   "metadata": {},
   "outputs": [
    {
     "name": "stdout",
     "output_type": "stream",
     "text": [
      "[[[ 1  2  3]\n",
      "  [ 4  5  6]]\n",
      "\n",
      " [[ 7  8  9]\n",
      "  [10 11 12]]] \n",
      "\n",
      "[[ 4.  6.  8.]\n",
      " [10. 12. 14.]\n",
      " [16. 18.  2.]] \n",
      "\n",
      "[[ 51.  60.  33.]\n",
      " [ 96. 114.  69.]\n",
      " [ 69.  87.  96.]] \n",
      "\n"
     ]
    }
   ],
   "source": [
    "import numpy as np\n",
    "A = np.array([[2. , 3. , 4.],\n",
    "             [5. , 6. , 7.],\n",
    "             [8. , 9. , 1.]])\n",
    "\n",
    "\n",
    "arr = np.array([[[1, 2, 3], [4, 5, 6]],\n",
    "                [[7, 8, 9], [10, 11, 12]]])\n",
    "\n",
    "print(arr , \"\\n\")\n",
    "print(2*A , \"\\n\")\n",
    "print(A @ A , \"\\n\")\n"
   ]
  },
  {
   "attachments": {},
   "cell_type": "markdown",
   "metadata": {},
   "source": [
    "*Extract a subset of data from a NumPy array using slicing and indexing.*"
   ]
  },
  {
   "cell_type": "code",
   "execution_count": 44,
   "metadata": {},
   "outputs": [
    {
     "name": "stdout",
     "output_type": "stream",
     "text": [
      "[[12.]] \n",
      "\n",
      "13.0 \n",
      "\n",
      "12\n"
     ]
    }
   ],
   "source": [
    "A = np.array([[10. , 11. , 12.],\n",
    "              [12. , 13. , 14.],\n",
    "              [15. , 16. , 17.]])\n",
    "\n",
    "\n",
    "arr = np.array([[[1, 2, 3], [4, 5, 6]],\n",
    "                [[7, 8, 9], [10, 11, 12]]])\n",
    "\n",
    "print(A[1:2 , 0:1] ,\"\\n\")\n",
    "print(A[1,1] , \"\\n\")\n",
    "print(arr[1 , 1 , -1])"
   ]
  },
  {
   "attachments": {},
   "cell_type": "markdown",
   "metadata": {},
   "source": [
    "*Reshape a NumPy array and perform broadcasting operations.*"
   ]
  },
  {
   "cell_type": "code",
   "execution_count": 47,
   "metadata": {},
   "outputs": [
    {
     "name": "stdout",
     "output_type": "stream",
     "text": [
      "[[0 1]\n",
      " [2 3]\n",
      " [4 5]] \n",
      "\n",
      "[[0 1 2]\n",
      " [3 4 5]] \n",
      "\n",
      "[[0 3]\n",
      " [1 4]\n",
      " [2 5]] \n",
      "\n",
      "[[0 2 4]\n",
      " [1 3 5]] \n",
      "\n",
      "[[10. 12. 15.]\n",
      " [11. 13. 16.]\n",
      " [12. 14. 17.]] \n",
      "\n"
     ]
    }
   ],
   "source": [
    "a = np.arange(6)\n",
    "\n",
    "A = np.array([[10. , 11. , 12.],\n",
    "              [12. , 13. , 14.],\n",
    "              [15. , 16. , 17.]])\n",
    "\n",
    "\n",
    "print(np.reshape(a , (3,2)), \"\\n\")\n",
    "print(np.reshape(a , (2,3)), \"\\n\")\n",
    "print(np.reshape(a , (3,2) , \"F\") , \"\\n\")\n",
    "print(np.reshape(a , (2,3) , order= 'F'), \"\\n\")\n",
    "print(np.reshape(np.ravel(A) , (3,3), order = 'F') , \"\\n\")"
   ]
  },
  {
   "attachments": {},
   "cell_type": "markdown",
   "metadata": {},
   "source": [
    "*Compute statistical measures on a NumPy array.*"
   ]
  },
  {
   "cell_type": "code",
   "execution_count": 54,
   "metadata": {},
   "outputs": [
    {
     "name": "stdout",
     "output_type": "stream",
     "text": [
      "12.5 \n",
      "\n",
      "7.0 \n",
      "\n",
      "13.0 \n",
      "\n",
      "2.211083193570267 \n",
      "\n",
      "4.888888888888889 \n",
      "\n",
      "[[1. 1. 1.]\n",
      " [1. 1. 1.]\n",
      " [1. 1. 1.]] \n",
      "\n"
     ]
    }
   ],
   "source": [
    "A = np.array([[10. , 11. , 12.],\n",
    "              [12. , 13. , 14.],\n",
    "              [15. , 16. , 17.]])\n",
    "\n",
    "print(np.mean(A[0:2,1:3 ]), \"\\n\")\n",
    "print(np.ptp(A), \"\\n\")\n",
    "print(np.median(A), \"\\n\")\n",
    "print(np.std(A), \"\\n\")\n",
    "print(np.var(A), \"\\n\")\n",
    "print(np.corrcoef(A), \"\\n\")"
   ]
  },
  {
   "attachments": {},
   "cell_type": "markdown",
   "metadata": {},
   "source": [
    "*Solve a set of Numpy exercises.*"
   ]
  },
  {
   "cell_type": "code",
   "execution_count": 75,
   "metadata": {},
   "outputs": [
    {
     "name": "stdout",
     "output_type": "stream",
     "text": [
      "[[11. 13. 15.]\n",
      " [13. 15. 17.]\n",
      " [16. 18. 20.]] \n",
      "\n",
      "[68. 80. 98.] \n",
      "\n",
      "[[ 742.  775.  808.]\n",
      " [ 876.  915.  954.]\n",
      " [1077. 1125. 1173.]] \n",
      "\n",
      "[[10. 10. 10.]\n",
      " [10. 10. 10.]\n",
      " [10. 10. 10.]] \n",
      "\n",
      "2 \n",
      "\n",
      "[[ 1.68884986e+14 -2.81474977e+14  1.12589991e+14]\n",
      " [-3.37769972e+14  5.62949953e+14 -2.25179981e+14]\n",
      " [ 1.68884986e+14 -2.81474977e+14  1.12589991e+14]]\n"
     ]
    }
   ],
   "source": [
    "A = np.array([[10. , 11. , 12.],\n",
    "              [12. , 13. , 14.],\n",
    "              [15. , 16. , 17.]])\n",
    "\n",
    "B = np.array([[20. , 21. , 22.],\n",
    "              [22. , 23. , 24.],\n",
    "              [25. , 26. , 27.]]) \n",
    "\n",
    "a = np.array([1. , 2. , 3])\n",
    "b = np.array([4. , 5. , 6.])\n",
    "np.linalg.inv(B)\n",
    "\n",
    "print(A + a , \"\\n\")\n",
    "print( A @ a.T,  \"\\n\")     \n",
    "print( A @ B , \"\\n\")\n",
    "print( B - A , \"\\n\")   \n",
    "print(np.linalg.matrix_rank(B),\"\\n\")\n",
    "print(np.linalg.inv(B))"
   ]
  },
  {
   "attachments": {},
   "cell_type": "markdown",
   "metadata": {},
   "source": [
    "**WEEK03**"
   ]
  },
  {
   "cell_type": "code",
   "execution_count": 1,
   "metadata": {},
   "outputs": [],
   "source": [
    "import pandas as pd \n",
    "import numpy as np"
   ]
  },
  {
   "attachments": {},
   "cell_type": "markdown",
   "metadata": {},
   "source": [
    "*Create Pandas Series and DataFrame from data.*"
   ]
  },
  {
   "cell_type": "code",
   "execution_count": 8,
   "metadata": {},
   "outputs": [
    {
     "data": {
      "text/html": [
       "<div>\n",
       "<style scoped>\n",
       "    .dataframe tbody tr th:only-of-type {\n",
       "        vertical-align: middle;\n",
       "    }\n",
       "\n",
       "    .dataframe tbody tr th {\n",
       "        vertical-align: top;\n",
       "    }\n",
       "\n",
       "    .dataframe thead th {\n",
       "        text-align: right;\n",
       "    }\n",
       "</style>\n",
       "<table border=\"1\" class=\"dataframe\">\n",
       "  <thead>\n",
       "    <tr style=\"text-align: right;\">\n",
       "      <th></th>\n",
       "      <th>Names</th>\n",
       "      <th>IDs</th>\n",
       "      <th>Age</th>\n",
       "      <th>Sex</th>\n",
       "    </tr>\n",
       "  </thead>\n",
       "  <tbody>\n",
       "    <tr>\n",
       "      <th>4</th>\n",
       "      <td>Leo</td>\n",
       "      <td>85345</td>\n",
       "      <td>20</td>\n",
       "      <td>m</td>\n",
       "    </tr>\n",
       "    <tr>\n",
       "      <th>5</th>\n",
       "      <td>Logan</td>\n",
       "      <td>86345</td>\n",
       "      <td>21</td>\n",
       "      <td>m</td>\n",
       "    </tr>\n",
       "    <tr>\n",
       "      <th>6</th>\n",
       "      <td>Ava</td>\n",
       "      <td>87345</td>\n",
       "      <td>20</td>\n",
       "      <td>f</td>\n",
       "    </tr>\n",
       "    <tr>\n",
       "      <th>7</th>\n",
       "      <td>Ethan</td>\n",
       "      <td>88345</td>\n",
       "      <td>22</td>\n",
       "      <td>m</td>\n",
       "    </tr>\n",
       "  </tbody>\n",
       "</table>\n",
       "</div>"
      ],
      "text/plain": [
       "   Names    IDs  Age Sex\n",
       "4    Leo  85345   20   m\n",
       "5  Logan  86345   21   m\n",
       "6    Ava  87345   20   f\n",
       "7  Ethan  88345   22   m"
      ]
     },
     "execution_count": 8,
     "metadata": {},
     "output_type": "execute_result"
    }
   ],
   "source": [
    "Names = pd.Series(['Sara', 'Karmel', 'Steva', 'Lilian'], name = \"Names\")\n",
    "IDs =  pd.Series([81234, 82234, 832345, 84345], name = \"IDs\")\n",
    "Age = pd.Series([19, 20, 20, 21], name = \"Age\")\n",
    "Sex = pd.Series([\"f\", \"f\", \"m\", \"f\"], name = \"Sex\")\n",
    "\n",
    "Table_1 = pd.DataFrame(\n",
    "    {\n",
    "        \"Names\" : Names ,\n",
    "        \"IDs\" : IDs,\n",
    "        \"Age\" : Age,\n",
    "        \"Sex\" : Sex,\n",
    "    },\n",
    "    index = [0, 1, 2, 3]\n",
    ")\n",
    "\n",
    "Table_2 = pd.DataFrame(\n",
    "    {\n",
    "        \"Names\" : [ 'Leo', 'Logan', 'Ava', 'Ethan'],\n",
    "        \"IDs\" : [85345, 86345, 87345, 88345],\n",
    "        \"Age\" : [20, 21, 20, 22],\n",
    "        \"Sex\" : [\"m\", \"m\", \"f\", \"m\"],\n",
    "    },\n",
    "    index = [4, 5, 6, 7]\n",
    ")\n",
    "\n",
    "Table_3 = pd.DataFrame(np.array(([ 1, 2, 3, 4],\n",
    "                                 [ 5, 6, 7, 8],\n",
    "                                 [ 9, 10, 11, 12],\n",
    "                                 [13, 14, 15, 16])),\n",
    "                                 index = ['Tomato', 'Cucuamber', 'Potato', 'Cherry'],\n",
    "                                 columns = ['num','num','num', 'num'])\n",
    "\n",
    "Table_2                                "
   ]
  },
  {
   "attachments": {},
   "cell_type": "markdown",
   "metadata": {},
   "source": [
    "*Perform data manipulation operations like filtering, sorting, and merging.*"
   ]
  },
  {
   "cell_type": "code",
   "execution_count": 37,
   "metadata": {},
   "outputs": [
    {
     "name": "stdout",
     "output_type": "stream",
     "text": [
      "    Names     IDs  Age Sex\n",
      "0    Sara   81234   19   f\n",
      "1  Karmel   82234   20   f\n",
      "3  Lilian   84345   21   f\n",
      "0     Leo   85345   20   m\n",
      "1   Logan   86345   21   m\n",
      "2     Ava   87345   20   f\n",
      "3   Ethan   88345   22   m\n",
      "2   Steva  832345   20   m \n",
      "\n",
      "   Names     IDs  Age Sex\n",
      "2  Steva  832345   20   m\n",
      "2    Ava   87345   20   f \n",
      "\n",
      "    Names Sex\n",
      "0    Sara   f\n",
      "1  Karmel   f\n",
      "2   Steva   m\n",
      "3  Lilian   f\n",
      "0     Leo   m\n",
      "1   Logan   m\n",
      "2     Ava   f\n",
      "3   Ethan   m \n",
      "\n",
      "        num  num  num  num\n",
      "Tomato    1    2    3    4\n",
      "Potato    9   10   11   12\n"
     ]
    },
    {
     "data": {
      "text/html": [
       "<div>\n",
       "<style scoped>\n",
       "    .dataframe tbody tr th:only-of-type {\n",
       "        vertical-align: middle;\n",
       "    }\n",
       "\n",
       "    .dataframe tbody tr th {\n",
       "        vertical-align: top;\n",
       "    }\n",
       "\n",
       "    .dataframe thead th {\n",
       "        text-align: right;\n",
       "    }\n",
       "</style>\n",
       "<table border=\"1\" class=\"dataframe\">\n",
       "  <thead>\n",
       "    <tr style=\"text-align: right;\">\n",
       "      <th></th>\n",
       "      <th>Names</th>\n",
       "      <th>IDs</th>\n",
       "      <th>Age</th>\n",
       "      <th>Sex</th>\n",
       "    </tr>\n",
       "  </thead>\n",
       "  <tbody>\n",
       "    <tr>\n",
       "      <th>0</th>\n",
       "      <td>Sara</td>\n",
       "      <td>81234</td>\n",
       "      <td>19</td>\n",
       "      <td>f</td>\n",
       "    </tr>\n",
       "    <tr>\n",
       "      <th>1</th>\n",
       "      <td>Karmel</td>\n",
       "      <td>82234</td>\n",
       "      <td>20</td>\n",
       "      <td>f</td>\n",
       "    </tr>\n",
       "    <tr>\n",
       "      <th>2</th>\n",
       "      <td>Steva</td>\n",
       "      <td>832345</td>\n",
       "      <td>20</td>\n",
       "      <td>m</td>\n",
       "    </tr>\n",
       "    <tr>\n",
       "      <th>3</th>\n",
       "      <td>Lilian</td>\n",
       "      <td>84345</td>\n",
       "      <td>21</td>\n",
       "      <td>f</td>\n",
       "    </tr>\n",
       "    <tr>\n",
       "      <th>0</th>\n",
       "      <td>Leo</td>\n",
       "      <td>85345</td>\n",
       "      <td>20</td>\n",
       "      <td>m</td>\n",
       "    </tr>\n",
       "    <tr>\n",
       "      <th>1</th>\n",
       "      <td>Logan</td>\n",
       "      <td>86345</td>\n",
       "      <td>21</td>\n",
       "      <td>m</td>\n",
       "    </tr>\n",
       "    <tr>\n",
       "      <th>2</th>\n",
       "      <td>Ava</td>\n",
       "      <td>87345</td>\n",
       "      <td>20</td>\n",
       "      <td>f</td>\n",
       "    </tr>\n",
       "    <tr>\n",
       "      <th>3</th>\n",
       "      <td>Ethan</td>\n",
       "      <td>88345</td>\n",
       "      <td>22</td>\n",
       "      <td>m</td>\n",
       "    </tr>\n",
       "  </tbody>\n",
       "</table>\n",
       "</div>"
      ],
      "text/plain": [
       "    Names     IDs  Age Sex\n",
       "0    Sara   81234   19   f\n",
       "1  Karmel   82234   20   f\n",
       "2   Steva  832345   20   m\n",
       "3  Lilian   84345   21   f\n",
       "0     Leo   85345   20   m\n",
       "1   Logan   86345   21   m\n",
       "2     Ava   87345   20   f\n",
       "3   Ethan   88345   22   m"
      ]
     },
     "execution_count": 37,
     "metadata": {},
     "output_type": "execute_result"
    }
   ],
   "source": [
    "Table = [ Table_1, Table_2]\n",
    "final = pd.concat(Table) \n",
    "\n",
    "print(final.sort_values(by=['IDs','Age']), \"\\n\")\n",
    "print(final.loc[2], \"\\n\")\n",
    "print(final.filter(items = ['Names' , 'Sex']) , \"\\n\")\n",
    "print(Table_3.filter(like= 'ato', axis=0))\n",
    "final"
   ]
  },
  {
   "attachments": {},
   "cell_type": "markdown",
   "metadata": {},
   "source": [
    "*Handle missing data and remove duplicates from a Pandas DataFrame.*"
   ]
  },
  {
   "cell_type": "code",
   "execution_count": 22,
   "metadata": {},
   "outputs": [
    {
     "name": "stdout",
     "output_type": "stream",
     "text": [
      "    Names       IDs   Age Sex\n",
      "0    Sara   81234.0  19.0   f\n",
      "1  Karmel   82234.0  20.0   f\n",
      "2   Steva  832345.0  20.0   m\n",
      "3  Lilian       NaN  21.0   f\n",
      "4     Leo   85345.0   NaN   m\n",
      "5   Logan   86345.0  21.0   m\n",
      "6     Ava       NaN  20.0   f\n",
      "7   Ethan   88345.0  22.0   m\n",
      "8   Ethan   88345.0  22.0   m \n",
      "\n",
      "   Names    IDs    Age   Sex\n",
      "0   True   True   True  True\n",
      "1   True   True   True  True\n",
      "2   True   True   True  True\n",
      "3   True  False   True  True\n",
      "4   True   True  False  True\n",
      "5   True   True   True  True\n",
      "6   True  False   True  True\n",
      "7   True   True   True  True\n",
      "8   True   True   True  True \n",
      "\n",
      "    Names       IDs   Age Sex\n",
      "0    Sara   81234.0  19.0   f\n",
      "1  Karmel   82234.0  20.0   f\n",
      "2   Steva  832345.0  20.0   m\n",
      "3  Lilian  458845.0  21.0   f\n",
      "4     Leo   85345.0  21.0   m\n",
      "5   Logan   86345.0  21.0   m\n",
      "6     Ava   87345.0  20.0   f\n",
      "7   Ethan   88345.0  22.0   m\n",
      "8   Ethan   88345.0  22.0   m \n",
      "\n",
      "    Names       IDs   Age Sex\n",
      "0    Sara   81234.0  19.0   f\n",
      "1  Karmel   82234.0  20.0   f\n",
      "2   Steva  832345.0  20.0   m\n",
      "3  Lilian       NaN  21.0   f\n",
      "4     Leo   85345.0   NaN   m\n",
      "5   Logan   86345.0  21.0   m\n",
      "6     Ava       NaN  20.0   f\n",
      "7   Ethan   88345.0  22.0   m\n"
     ]
    }
   ],
   "source": [
    "Table_4  = pd.read_excel(\"C:/Users/user/Desktop/Week3.xlsx\")\n",
    "print(Table_4, \"\\n\")\n",
    "\n",
    "print(Table_4.notna(), \"\\n\") # or print(pd.isna(Table_4))\n",
    "print(Table_4.interpolate(), \"\\n\") #or print(Table_4.fillna(Table_4.mean()), \"\\n\")\n",
    "\n",
    "print(Table_4.drop_duplicates())"
   ]
  },
  {
   "attachments": {},
   "cell_type": "markdown",
   "metadata": {},
   "source": [
    "*Perform grouping and aggregation operations on a DataFrame.*"
   ]
  },
  {
   "cell_type": "code",
   "execution_count": 36,
   "metadata": {},
   "outputs": [
    {
     "name": "stdout",
     "output_type": "stream",
     "text": [
      "   Names  money\n",
      "0    Leo  85345\n",
      "1  Logan  86345\n",
      "2    Leo  87345\n",
      "3  Logan  88345 \n",
      "\n",
      "         money\n",
      "Names         \n",
      "Leo    86345.0\n",
      "Logan  87345.0 \n",
      "\n",
      "          IDs   Age\n",
      "sum  347380.0   NaN\n",
      "min   85345.0  20.0\n",
      "max       NaN  22.0\n"
     ]
    }
   ],
   "source": [
    "Table_5 = pd.DataFrame(\n",
    "    {\n",
    "        \"Names\" : [ 'Leo', 'Logan', 'Leo', 'Logan'],\n",
    "        \"money\" : [85345, 86345, 87345, 88345],\n",
    "        \n",
    "    }\n",
    "    \n",
    ")\n",
    "print(Table_5 , \"\\n\")\n",
    "print(Table_5.groupby([\"Names\"]).mean(), \"\\n\")\n",
    "\n",
    "print(Table_2.agg({'IDs' : ['sum', 'min'], 'Age' : ['min', 'max']}))"
   ]
  },
  {
   "attachments": {},
   "cell_type": "markdown",
   "metadata": {},
   "source": [
    "*Solve a set of Pandas exercises.*"
   ]
  },
  {
   "cell_type": "code",
   "execution_count": null,
   "metadata": {},
   "outputs": [],
   "source": []
  },
  {
   "attachments": {},
   "cell_type": "markdown",
   "metadata": {},
   "source": [
    "**WEEK04**"
   ]
  },
  {
   "cell_type": "code",
   "execution_count": 59,
   "metadata": {},
   "outputs": [],
   "source": [
    "import matplotlib.pyplot as plt\n",
    "import matplotlib\n",
    "import numpy as np"
   ]
  },
  {
   "attachments": {},
   "cell_type": "markdown",
   "metadata": {},
   "source": [
    "*Plot a simple line graph using Matplotlib.*"
   ]
  },
  {
   "cell_type": "code",
   "execution_count": 89,
   "metadata": {},
   "outputs": [
    {
     "data": {
      "image/png": "[encoded data removed]",
      "text/plain": [
       "<Figure size 640x480 with 1 Axes>"
      ]
     },
     "metadata": {},
     "output_type": "display_data"
    },
    {
     "data": {
      "image/png": "[encoded data removed]",
      "text/plain": [
       "<Figure size 640x480 with 1 Axes>"
      ]
     },
     "metadata": {},
     "output_type": "display_data"
    }
   ],
   "source": [
    "x = np.array([1, 2, 3, 4, 5])\n",
    "y = np.array([1, 4, 9, 16, 25])\n",
    "\n",
    "plt.plot(x,y , marker = '.', ms = 15, mec = 'black', mfc = 'purple', ls = \"-.\" , c = \"black\", lw = 0.5)\n",
    "plt.show()\n",
    "\n",
    "y1 = np.array([3, 6, 11, 18, 27])\n",
    "y2 = np.array([8, 11, 17, 23])\n",
    "plt.plot(y1)\n",
    "plt.plot(y2)\n",
    "plt.show()"
   ]
  },
  {
   "attachments": {},
   "cell_type": "markdown",
   "metadata": {},
   "source": [
    "*Create a scatter plot and customize its appearance.*"
   ]
  },
  {
   "cell_type": "code",
   "execution_count": 101,
   "metadata": {},
   "outputs": [
    {
     "name": "stderr",
     "output_type": "stream",
     "text": [
      "C:\\Users\\user\\AppData\\Local\\Temp\\ipykernel_7908\\1926240333.py:6: UserWarning: No data for colormapping provided via 'c'. Parameters 'cmap' will be ignored\n",
      "  plt.scatter(x, y, c=colors, cmap='winter_r')\n"
     ]
    },
    {
     "data": {
      "image/png": "[encoded data removed]",
      "text/plain": [
       "<Figure size 640x480 with 2 Axes>"
      ]
     },
     "metadata": {},
     "output_type": "display_data"
    }
   ],
   "source": [
    "x = np.array([5,7,8,7,2,17,2,9,4,11,12,9,6])\n",
    "y = np.array([99,86,87,88,111,86,103,87,94,78,77,85,86])\n",
    "\n",
    "colors = np.array([\"red\",\"green\",\"blue\",\"yellow\",\"pink\",\"black\",\"orange\",\"purple\",\"beige\",\"brown\",\"gray\",\"cyan\",\"magenta\"])\n",
    "\n",
    "plt.scatter(x, y, c=colors, cmap='winter_r')\n",
    "plt.title(\"Tempreture\" , loc = 'left' , c = 'green')\n",
    "plt.text(2, 10, r'$Seeking for what?!$')\n",
    "plt.xlabel(\"Date of the day\", c ='purple')\n",
    "plt.ylabel(\"Average rain\", c = 'blue')\n",
    "plt.grid(color = 'green', linestyle = '--', linewidth = 0.5)\n",
    "plt.colorbar()\n",
    "plt.show()"
   ]
  },
  {
   "attachments": {},
   "cell_type": "markdown",
   "metadata": {},
   "source": [
    "*Create a bar plot and a histogram with Matplotlib.*"
   ]
  },
  {
   "cell_type": "code",
   "execution_count": 127,
   "metadata": {},
   "outputs": [
    {
     "data": {
      "image/png": "[encoded data removed]",
      "text/plain": [
       "<Figure size 640x480 with 1 Axes>"
      ]
     },
     "metadata": {},
     "output_type": "display_data"
    },
    {
     "data": {
      "image/png": "[encoded data removed]",
      "text/plain": [
       "<Figure size 640x480 with 1 Axes>"
      ]
     },
     "metadata": {},
     "output_type": "display_data"
    }
   ],
   "source": [
    "M = np.array([\"Hen\", \"Roster\", \"Sheep\", \"Cow\", \"Horse\"])\n",
    "N = np.array([100, 5, 35, 27, 5])\n",
    "\n",
    "plt.barh(M , N, color = \"yellow\", height = 0.3 )\n",
    "plt.show()\n",
    "\n",
    "x = np.random.normal(170, 10, 100)\n",
    "\n",
    "plt.hist(x, color = \"cyan\" , width = 0.5)\n",
    "plt.show() "
   ]
  },
  {
   "attachments": {},
   "cell_type": "markdown",
   "metadata": {},
   "source": [
    "*Create subplots and multiple plots using Matplotlib.*"
   ]
  },
  {
   "cell_type": "code",
   "execution_count": 120,
   "metadata": {},
   "outputs": [
    {
     "data": {
      "image/png": "[encoded data removed]",
      "text/plain": [
       "<Figure size 640x480 with 4 Axes>"
      ]
     },
     "metadata": {},
     "output_type": "display_data"
    }
   ],
   "source": [
    "x = np.array([1, 2, 3, 4, 5])\n",
    "y = np.array([1, 4, 9, 16, 25])\n",
    "\n",
    "plt.subplot(2, 2, 1)\n",
    "plt.title(\"Plot 01\", c = \"black\")\n",
    "plt.plot(x,y,color = \"yellow\" )\n",
    "\n",
    "x = np.array([0, 1, 2, 3])\n",
    "y = np.array([10, 20, 30, 40])\n",
    "\n",
    "plt.subplot(2, 2, 2)\n",
    "plt.title(\"Plot 02\", c = \"black\")\n",
    "plt.plot(x,y,color = \"yellow\")\n",
    "\n",
    "x = np.array([0, 1, 2, 3])\n",
    "y = np.array([3, 8, 1, 10])\n",
    "\n",
    "plt.subplot(2, 2, 3)\n",
    "plt.title(\"Plot 03\" , c = \"black\")\n",
    "plt.plot(x,y,color = \"yellow\")\n",
    "\n",
    "x = np.array([0, 1, 2, 3])\n",
    "y = np.array([10, 20, 30, 40])\n",
    "\n",
    "plt.subplot(2, 2, 4)\n",
    "plt.title(\"Plot 04\", c = \"black\")\n",
    "plt.plot(x,y,color = \"yellow\")\n",
    "\n",
    "plt.suptitle(\"Multiple Plots\" , c = 'brown')\n",
    "plt.show()"
   ]
  },
  {
   "attachments": {},
   "cell_type": "markdown",
   "metadata": {},
   "source": [
    "*Solve a set of Matplotlib exercises.*"
   ]
  },
  {
   "cell_type": "code",
   "execution_count": null,
   "metadata": {},
   "outputs": [],
   "source": []
  },
  {
   "attachments": {},
   "cell_type": "markdown",
   "metadata": {},
   "source": [
    "**WEEK05**"
   ]
  }
 ],
 "metadata": {
  "kernelspec": {
   "display_name": "Python 3",
   "language": "python",
   "name": "python3"
  },
  "language_info": {
   "codemirror_mode": {
    "name": "ipython",
    "version": 3
   },
   "file_extension": ".py",
   "mimetype": "text/x-python",
   "name": "python",
   "nbconvert_exporter": "python",
   "pygments_lexer": "ipython3",
   "version": "3.11.2 (tags/v3.11.2:878ead1, Feb  7 2023, 16:38:35) [MSC v.1934 64 bit (AMD64)]"
  },
  "orig_nbformat": 4,
  "vscode": {
   "interpreter": {
    "hash": "de47f5c92c0ee6f12a59a5613ac5feff6aab19ddff207ba0b3964cced08c4ccc"
   }
  }
 },
 "nbformat": 4,
 "nbformat_minor": 2
}
